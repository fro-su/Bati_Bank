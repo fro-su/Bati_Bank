{
 "cells": [
  {
   "cell_type": "code",
   "execution_count": 1,
   "metadata": {},
   "outputs": [],
   "source": [
    "import pandas as pd\n",
    "import seaborn as sns\n",
    "import matplotlib.pyplot as plt\n",
    "import numpy as np"
   ]
  },
  {
   "cell_type": "markdown",
   "metadata": {},
   "source": [
    " Load the dataset"
   ]
  },
  {
   "cell_type": "code",
   "execution_count": 2,
   "metadata": {},
   "outputs": [],
   "source": [
    "df = pd.read_csv('../data/data.csv')"
   ]
  },
  {
   "cell_type": "markdown",
   "metadata": {},
   "source": [
    "1. Create Aggregate Features\n"
   ]
  },
  {
   "cell_type": "markdown",
   "metadata": {},
   "source": [
    "We will group transactions by customer and compute aggregate statistics"
   ]
  },
  {
   "cell_type": "code",
   "execution_count": 3,
   "metadata": {},
   "outputs": [
    {
     "name": "stdout",
     "output_type": "stream",
     "text": [
      "        CustomerId  total_transaction_amount  avg_transaction_amount  \\\n",
      "0     CustomerId_1                  -10000.0           -10000.000000   \n",
      "1    CustomerId_10                  -10000.0           -10000.000000   \n",
      "2  CustomerId_1001                   20000.0             4000.000000   \n",
      "3  CustomerId_1002                    4225.0              384.090909   \n",
      "4  CustomerId_1003                   20000.0             3333.333333   \n",
      "\n",
      "   transaction_count  std_transaction_amount  \n",
      "0                  1                     NaN  \n",
      "1                  1                     NaN  \n",
      "2                  5             6558.963333  \n",
      "3                 11              560.498966  \n",
      "4                  6             6030.478146  \n"
     ]
    }
   ],
   "source": [
    "# Aggregate features\n",
    "aggregate_df = df.groupby('CustomerId').agg(\n",
    "    total_transaction_amount=('Amount', 'sum'),\n",
    "    avg_transaction_amount=('Amount', 'mean'),\n",
    "    transaction_count=('TransactionId', 'count'),\n",
    "    std_transaction_amount=('Amount', 'std')\n",
    ").reset_index()\n",
    "\n",
    "print(aggregate_df.head())"
   ]
  },
  {
   "cell_type": "markdown",
   "metadata": {},
   "source": [
    "2. Extract Time-based Features"
   ]
  },
  {
   "cell_type": "markdown",
   "metadata": {},
   "source": [
    "We will extract features like the hour, day, month, and year from the TransactionStartTime"
   ]
  },
  {
   "cell_type": "code",
   "execution_count": 4,
   "metadata": {},
   "outputs": [
    {
     "name": "stdout",
     "output_type": "stream",
     "text": [
      "   transaction_hour  transaction_day  transaction_month  transaction_year\n",
      "0                 2               15                 11              2018\n",
      "1                 2               15                 11              2018\n",
      "2                 2               15                 11              2018\n",
      "3                 3               15                 11              2018\n",
      "4                 3               15                 11              2018\n"
     ]
    }
   ],
   "source": [
    "# Convert 'TransactionStartTime' to datetime if it's not in that format\n",
    "df['TransactionStartTime'] = pd.to_datetime(df['TransactionStartTime'])\n",
    "\n",
    "# Extract hour, day, month, and year\n",
    "df['transaction_hour'] = df['TransactionStartTime'].dt.hour\n",
    "df['transaction_day'] = df['TransactionStartTime'].dt.day\n",
    "df['transaction_month'] = df['TransactionStartTime'].dt.month\n",
    "df['transaction_year'] = df['TransactionStartTime'].dt.year\n",
    "\n",
    "print(df[['transaction_hour', 'transaction_day', 'transaction_month', 'transaction_year']].head())\n"
   ]
  },
  {
   "cell_type": "markdown",
   "metadata": {},
   "source": [
    "3. Encode Categorical Variables"
   ]
  },
  {
   "cell_type": "code",
   "execution_count": 6,
   "metadata": {},
   "outputs": [
    {
     "name": "stdout",
     "output_type": "stream",
     "text": [
      "         TransactionId         BatchId       AccountId       SubscriptionId  \\\n",
      "0  TransactionId_76871   BatchId_36123  AccountId_3957   SubscriptionId_887   \n",
      "1  TransactionId_73770   BatchId_15642  AccountId_4841  SubscriptionId_3829   \n",
      "2  TransactionId_26203   BatchId_53941  AccountId_4229   SubscriptionId_222   \n",
      "3    TransactionId_380  BatchId_102363   AccountId_648  SubscriptionId_2185   \n",
      "4  TransactionId_28195   BatchId_38780  AccountId_4841  SubscriptionId_3829   \n",
      "\n",
      "        CustomerId  CountryCode     ProductId   Amount  Value  \\\n",
      "0  CustomerId_4406          256  ProductId_10   1000.0   1000   \n",
      "1  CustomerId_4406          256   ProductId_6    -20.0     20   \n",
      "2  CustomerId_4683          256   ProductId_1    500.0    500   \n",
      "3   CustomerId_988          256  ProductId_21  20000.0  21800   \n",
      "4   CustomerId_988          256   ProductId_6   -644.0    644   \n",
      "\n",
      "       TransactionStartTime  ...  ProductCategory_financial_services  \\\n",
      "0 2018-11-15 02:18:49+00:00  ...                               False   \n",
      "1 2018-11-15 02:19:08+00:00  ...                                True   \n",
      "2 2018-11-15 02:44:21+00:00  ...                               False   \n",
      "3 2018-11-15 03:32:55+00:00  ...                               False   \n",
      "4 2018-11-15 03:34:21+00:00  ...                                True   \n",
      "\n",
      "   ProductCategory_movies  ProductCategory_other  ProductCategory_ticket  \\\n",
      "0                   False                  False                   False   \n",
      "1                   False                  False                   False   \n",
      "2                   False                  False                   False   \n",
      "3                   False                  False                   False   \n",
      "4                   False                  False                   False   \n",
      "\n",
      "   ProductCategory_transport  ProductCategory_tv  \\\n",
      "0                      False               False   \n",
      "1                      False               False   \n",
      "2                      False               False   \n",
      "3                      False               False   \n",
      "4                      False               False   \n",
      "\n",
      "   ProductCategory_utility_bill  ChannelId_ChannelId_2  ChannelId_ChannelId_3  \\\n",
      "0                         False                  False                   True   \n",
      "1                         False                   True                  False   \n",
      "2                         False                  False                   True   \n",
      "3                          True                  False                   True   \n",
      "4                         False                   True                  False   \n",
      "\n",
      "   ChannelId_ChannelId_5  \n",
      "0                  False  \n",
      "1                  False  \n",
      "2                  False  \n",
      "3                  False  \n",
      "4                  False  \n",
      "\n",
      "[5 rows x 32 columns]\n"
     ]
    }
   ],
   "source": [
    "# One-Hot Encoding\n",
    "df_encoded = pd.get_dummies(df, columns=['CurrencyCode', 'ProviderId', 'ProductCategory', 'ChannelId'], drop_first=True)\n",
    "print(df_encoded.head())\n"
   ]
  }
 ],
 "metadata": {
  "kernelspec": {
   "display_name": ".venv_bati",
   "language": "python",
   "name": "python3"
  },
  "language_info": {
   "codemirror_mode": {
    "name": "ipython",
    "version": 3
   },
   "file_extension": ".py",
   "mimetype": "text/x-python",
   "name": "python",
   "nbconvert_exporter": "python",
   "pygments_lexer": "ipython3",
   "version": "3.10.6"
  }
 },
 "nbformat": 4,
 "nbformat_minor": 2
}
