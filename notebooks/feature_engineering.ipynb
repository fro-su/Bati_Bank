{
 "cells": [
  {
   "cell_type": "code",
   "execution_count": 1,
   "metadata": {},
   "outputs": [],
   "source": [
    "import pandas as pd\n",
    "import seaborn as sns\n",
    "import matplotlib.pyplot as plt\n",
    "import numpy as np"
   ]
  },
  {
   "cell_type": "markdown",
   "metadata": {},
   "source": [
    " Load the dataset"
   ]
  },
  {
   "cell_type": "code",
   "execution_count": 2,
   "metadata": {},
   "outputs": [],
   "source": [
    "df = pd.read_csv('../data/data.csv')"
   ]
  },
  {
   "cell_type": "markdown",
   "metadata": {},
   "source": [
    "Create Aggregate Features\n"
   ]
  },
  {
   "cell_type": "markdown",
   "metadata": {},
   "source": [
    "We will group transactions by customer and compute aggregate statistics"
   ]
  },
  {
   "cell_type": "code",
   "execution_count": 3,
   "metadata": {},
   "outputs": [
    {
     "name": "stdout",
     "output_type": "stream",
     "text": [
      "        CustomerId  total_transaction_amount  avg_transaction_amount  \\\n",
      "0     CustomerId_1                  -10000.0           -10000.000000   \n",
      "1    CustomerId_10                  -10000.0           -10000.000000   \n",
      "2  CustomerId_1001                   20000.0             4000.000000   \n",
      "3  CustomerId_1002                    4225.0              384.090909   \n",
      "4  CustomerId_1003                   20000.0             3333.333333   \n",
      "\n",
      "   transaction_count  std_transaction_amount  \n",
      "0                  1                     NaN  \n",
      "1                  1                     NaN  \n",
      "2                  5             6558.963333  \n",
      "3                 11              560.498966  \n",
      "4                  6             6030.478146  \n"
     ]
    }
   ],
   "source": [
    "# Aggregate features\n",
    "aggregate_df = df.groupby('CustomerId').agg(\n",
    "    total_transaction_amount=('Amount', 'sum'),\n",
    "    avg_transaction_amount=('Amount', 'mean'),\n",
    "    transaction_count=('TransactionId', 'count'),\n",
    "    std_transaction_amount=('Amount', 'std')\n",
    ").reset_index()\n",
    "\n",
    "print(aggregate_df.head())"
   ]
  }
 ],
 "metadata": {
  "kernelspec": {
   "display_name": ".venv_bati",
   "language": "python",
   "name": "python3"
  },
  "language_info": {
   "codemirror_mode": {
    "name": "ipython",
    "version": 3
   },
   "file_extension": ".py",
   "mimetype": "text/x-python",
   "name": "python",
   "nbconvert_exporter": "python",
   "pygments_lexer": "ipython3",
   "version": "3.10.6"
  }
 },
 "nbformat": 4,
 "nbformat_minor": 2
}
