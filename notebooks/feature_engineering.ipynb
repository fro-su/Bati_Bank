{
 "cells": [
  {
   "cell_type": "code",
   "execution_count": 1,
   "metadata": {},
   "outputs": [],
   "source": [
    "import pandas as pd\n",
    "import seaborn as sns\n",
    "import matplotlib.pyplot as plt\n",
    "import numpy as np"
   ]
  },
  {
   "cell_type": "markdown",
   "metadata": {},
   "source": [
    " Load the dataset"
   ]
  },
  {
   "cell_type": "code",
   "execution_count": 2,
   "metadata": {},
   "outputs": [],
   "source": [
    "df = pd.read_csv('../data/data.csv')"
   ]
  },
  {
   "cell_type": "markdown",
   "metadata": {},
   "source": [
    "1. Create Aggregate Features\n"
   ]
  },
  {
   "cell_type": "markdown",
   "metadata": {},
   "source": [
    "We will group transactions by customer and compute aggregate statistics"
   ]
  },
  {
   "cell_type": "code",
   "execution_count": 3,
   "metadata": {},
   "outputs": [
    {
     "name": "stdout",
     "output_type": "stream",
     "text": [
      "        CustomerId  total_transaction_amount  avg_transaction_amount  \\\n",
      "0     CustomerId_1                  -10000.0           -10000.000000   \n",
      "1    CustomerId_10                  -10000.0           -10000.000000   \n",
      "2  CustomerId_1001                   20000.0             4000.000000   \n",
      "3  CustomerId_1002                    4225.0              384.090909   \n",
      "4  CustomerId_1003                   20000.0             3333.333333   \n",
      "\n",
      "   transaction_count  std_transaction_amount  \n",
      "0                  1                     NaN  \n",
      "1                  1                     NaN  \n",
      "2                  5             6558.963333  \n",
      "3                 11              560.498966  \n",
      "4                  6             6030.478146  \n"
     ]
    }
   ],
   "source": [
    "# Aggregate features\n",
    "aggregate_df = df.groupby('CustomerId').agg(\n",
    "    total_transaction_amount=('Amount', 'sum'),\n",
    "    avg_transaction_amount=('Amount', 'mean'),\n",
    "    transaction_count=('TransactionId', 'count'),\n",
    "    std_transaction_amount=('Amount', 'std')\n",
    ").reset_index()\n",
    "\n",
    "print(aggregate_df.head())"
   ]
  },
  {
   "cell_type": "markdown",
   "metadata": {},
   "source": [
    "2. Extract Time-based Features"
   ]
  },
  {
   "cell_type": "markdown",
   "metadata": {},
   "source": [
    "We will extract features like the hour, day, month, and year from the TransactionStartTime"
   ]
  },
  {
   "cell_type": "code",
   "execution_count": 4,
   "metadata": {},
   "outputs": [
    {
     "name": "stdout",
     "output_type": "stream",
     "text": [
      "   transaction_hour  transaction_day  transaction_month  transaction_year\n",
      "0                 2               15                 11              2018\n",
      "1                 2               15                 11              2018\n",
      "2                 2               15                 11              2018\n",
      "3                 3               15                 11              2018\n",
      "4                 3               15                 11              2018\n"
     ]
    }
   ],
   "source": [
    "# Convert 'TransactionStartTime' to datetime if it's not in that format\n",
    "df['TransactionStartTime'] = pd.to_datetime(df['TransactionStartTime'])\n",
    "\n",
    "# Extract hour, day, month, and year\n",
    "df['transaction_hour'] = df['TransactionStartTime'].dt.hour\n",
    "df['transaction_day'] = df['TransactionStartTime'].dt.day\n",
    "df['transaction_month'] = df['TransactionStartTime'].dt.month\n",
    "df['transaction_year'] = df['TransactionStartTime'].dt.year\n",
    "\n",
    "print(df[['transaction_hour', 'transaction_day', 'transaction_month', 'transaction_year']].head())\n"
   ]
  },
  {
   "cell_type": "markdown",
   "metadata": {},
   "source": [
    "3. Encode Categorical Variables"
   ]
  },
  {
   "cell_type": "code",
   "execution_count": 6,
   "metadata": {},
   "outputs": [
    {
     "name": "stdout",
     "output_type": "stream",
     "text": [
      "         TransactionId         BatchId       AccountId       SubscriptionId  \\\n",
      "0  TransactionId_76871   BatchId_36123  AccountId_3957   SubscriptionId_887   \n",
      "1  TransactionId_73770   BatchId_15642  AccountId_4841  SubscriptionId_3829   \n",
      "2  TransactionId_26203   BatchId_53941  AccountId_4229   SubscriptionId_222   \n",
      "3    TransactionId_380  BatchId_102363   AccountId_648  SubscriptionId_2185   \n",
      "4  TransactionId_28195   BatchId_38780  AccountId_4841  SubscriptionId_3829   \n",
      "\n",
      "        CustomerId  CountryCode     ProductId   Amount  Value  \\\n",
      "0  CustomerId_4406          256  ProductId_10   1000.0   1000   \n",
      "1  CustomerId_4406          256   ProductId_6    -20.0     20   \n",
      "2  CustomerId_4683          256   ProductId_1    500.0    500   \n",
      "3   CustomerId_988          256  ProductId_21  20000.0  21800   \n",
      "4   CustomerId_988          256   ProductId_6   -644.0    644   \n",
      "\n",
      "       TransactionStartTime  ...  ProductCategory_financial_services  \\\n",
      "0 2018-11-15 02:18:49+00:00  ...                               False   \n",
      "1 2018-11-15 02:19:08+00:00  ...                                True   \n",
      "2 2018-11-15 02:44:21+00:00  ...                               False   \n",
      "3 2018-11-15 03:32:55+00:00  ...                               False   \n",
      "4 2018-11-15 03:34:21+00:00  ...                                True   \n",
      "\n",
      "   ProductCategory_movies  ProductCategory_other  ProductCategory_ticket  \\\n",
      "0                   False                  False                   False   \n",
      "1                   False                  False                   False   \n",
      "2                   False                  False                   False   \n",
      "3                   False                  False                   False   \n",
      "4                   False                  False                   False   \n",
      "\n",
      "   ProductCategory_transport  ProductCategory_tv  \\\n",
      "0                      False               False   \n",
      "1                      False               False   \n",
      "2                      False               False   \n",
      "3                      False               False   \n",
      "4                      False               False   \n",
      "\n",
      "   ProductCategory_utility_bill  ChannelId_ChannelId_2  ChannelId_ChannelId_3  \\\n",
      "0                         False                  False                   True   \n",
      "1                         False                   True                  False   \n",
      "2                         False                  False                   True   \n",
      "3                          True                  False                   True   \n",
      "4                         False                   True                  False   \n",
      "\n",
      "   ChannelId_ChannelId_5  \n",
      "0                  False  \n",
      "1                  False  \n",
      "2                  False  \n",
      "3                  False  \n",
      "4                  False  \n",
      "\n",
      "[5 rows x 32 columns]\n"
     ]
    }
   ],
   "source": [
    "# One-Hot Encoding\n",
    "df_encoded = pd.get_dummies(df, columns=['CurrencyCode', 'ProviderId', 'ProductCategory', 'ChannelId'], drop_first=True)\n",
    "print(df_encoded.head())\n"
   ]
  },
  {
   "cell_type": "markdown",
   "metadata": {},
   "source": [
    "Label Encoding (for ordinal categories)"
   ]
  },
  {
   "cell_type": "code",
   "execution_count": 13,
   "metadata": {},
   "outputs": [
    {
     "name": "stdout",
     "output_type": "stream",
     "text": [
      "     ChannelId  ChannelId_encoded\n",
      "0  ChannelId_3                  2\n",
      "1  ChannelId_2                  1\n",
      "2  ChannelId_3                  2\n",
      "3  ChannelId_3                  2\n",
      "4  ChannelId_2                  1\n"
     ]
    },
    {
     "data": {
      "text/html": [
       "<div>\n",
       "<style scoped>\n",
       "    .dataframe tbody tr th:only-of-type {\n",
       "        vertical-align: middle;\n",
       "    }\n",
       "\n",
       "    .dataframe tbody tr th {\n",
       "        vertical-align: top;\n",
       "    }\n",
       "\n",
       "    .dataframe thead th {\n",
       "        text-align: right;\n",
       "    }\n",
       "</style>\n",
       "<table border=\"1\" class=\"dataframe\">\n",
       "  <thead>\n",
       "    <tr style=\"text-align: right;\">\n",
       "      <th></th>\n",
       "      <th>TransactionId</th>\n",
       "      <th>BatchId</th>\n",
       "      <th>AccountId</th>\n",
       "      <th>SubscriptionId</th>\n",
       "      <th>CustomerId</th>\n",
       "      <th>CurrencyCode</th>\n",
       "      <th>CountryCode</th>\n",
       "      <th>ProviderId</th>\n",
       "      <th>ProductId</th>\n",
       "      <th>ProductCategory</th>\n",
       "      <th>...</th>\n",
       "      <th>Amount</th>\n",
       "      <th>Value</th>\n",
       "      <th>TransactionStartTime</th>\n",
       "      <th>PricingStrategy</th>\n",
       "      <th>FraudResult</th>\n",
       "      <th>transaction_hour</th>\n",
       "      <th>transaction_day</th>\n",
       "      <th>transaction_month</th>\n",
       "      <th>transaction_year</th>\n",
       "      <th>ChannelId_encoded</th>\n",
       "    </tr>\n",
       "  </thead>\n",
       "  <tbody>\n",
       "    <tr>\n",
       "      <th>0</th>\n",
       "      <td>78150</td>\n",
       "      <td>46980</td>\n",
       "      <td>2490</td>\n",
       "      <td>3535</td>\n",
       "      <td>2584</td>\n",
       "      <td>UGX</td>\n",
       "      <td>256</td>\n",
       "      <td>ProviderId_6</td>\n",
       "      <td>1</td>\n",
       "      <td>airtime</td>\n",
       "      <td>...</td>\n",
       "      <td>1000.0</td>\n",
       "      <td>1000</td>\n",
       "      <td>2018-11-15 02:18:49+00:00</td>\n",
       "      <td>2</td>\n",
       "      <td>0</td>\n",
       "      <td>2</td>\n",
       "      <td>15</td>\n",
       "      <td>11</td>\n",
       "      <td>2018</td>\n",
       "      <td>2</td>\n",
       "    </tr>\n",
       "    <tr>\n",
       "      <th>1</th>\n",
       "      <td>75821</td>\n",
       "      <td>31755</td>\n",
       "      <td>3219</td>\n",
       "      <td>2366</td>\n",
       "      <td>2584</td>\n",
       "      <td>UGX</td>\n",
       "      <td>256</td>\n",
       "      <td>ProviderId_4</td>\n",
       "      <td>19</td>\n",
       "      <td>financial_services</td>\n",
       "      <td>...</td>\n",
       "      <td>-20.0</td>\n",
       "      <td>20</td>\n",
       "      <td>2018-11-15 02:19:08+00:00</td>\n",
       "      <td>2</td>\n",
       "      <td>0</td>\n",
       "      <td>2</td>\n",
       "      <td>15</td>\n",
       "      <td>11</td>\n",
       "      <td>2018</td>\n",
       "      <td>1</td>\n",
       "    </tr>\n",
       "    <tr>\n",
       "      <th>2</th>\n",
       "      <td>39888</td>\n",
       "      <td>60272</td>\n",
       "      <td>2713</td>\n",
       "      <td>996</td>\n",
       "      <td>2806</td>\n",
       "      <td>UGX</td>\n",
       "      <td>256</td>\n",
       "      <td>ProviderId_6</td>\n",
       "      <td>0</td>\n",
       "      <td>airtime</td>\n",
       "      <td>...</td>\n",
       "      <td>500.0</td>\n",
       "      <td>500</td>\n",
       "      <td>2018-11-15 02:44:21+00:00</td>\n",
       "      <td>2</td>\n",
       "      <td>0</td>\n",
       "      <td>2</td>\n",
       "      <td>15</td>\n",
       "      <td>11</td>\n",
       "      <td>2018</td>\n",
       "      <td>2</td>\n",
       "    </tr>\n",
       "    <tr>\n",
       "      <th>3</th>\n",
       "      <td>48738</td>\n",
       "      <td>1797</td>\n",
       "      <td>3351</td>\n",
       "      <td>974</td>\n",
       "      <td>3733</td>\n",
       "      <td>UGX</td>\n",
       "      <td>256</td>\n",
       "      <td>ProviderId_1</td>\n",
       "      <td>11</td>\n",
       "      <td>utility_bill</td>\n",
       "      <td>...</td>\n",
       "      <td>20000.0</td>\n",
       "      <td>21800</td>\n",
       "      <td>2018-11-15 03:32:55+00:00</td>\n",
       "      <td>2</td>\n",
       "      <td>0</td>\n",
       "      <td>3</td>\n",
       "      <td>15</td>\n",
       "      <td>11</td>\n",
       "      <td>2018</td>\n",
       "      <td>2</td>\n",
       "    </tr>\n",
       "    <tr>\n",
       "      <th>4</th>\n",
       "      <td>41364</td>\n",
       "      <td>48941</td>\n",
       "      <td>3219</td>\n",
       "      <td>2366</td>\n",
       "      <td>3733</td>\n",
       "      <td>UGX</td>\n",
       "      <td>256</td>\n",
       "      <td>ProviderId_4</td>\n",
       "      <td>19</td>\n",
       "      <td>financial_services</td>\n",
       "      <td>...</td>\n",
       "      <td>-644.0</td>\n",
       "      <td>644</td>\n",
       "      <td>2018-11-15 03:34:21+00:00</td>\n",
       "      <td>2</td>\n",
       "      <td>0</td>\n",
       "      <td>3</td>\n",
       "      <td>15</td>\n",
       "      <td>11</td>\n",
       "      <td>2018</td>\n",
       "      <td>1</td>\n",
       "    </tr>\n",
       "  </tbody>\n",
       "</table>\n",
       "<p>5 rows × 21 columns</p>\n",
       "</div>"
      ],
      "text/plain": [
       "   TransactionId  BatchId  AccountId  SubscriptionId  CustomerId CurrencyCode  \\\n",
       "0          78150    46980       2490            3535        2584          UGX   \n",
       "1          75821    31755       3219            2366        2584          UGX   \n",
       "2          39888    60272       2713             996        2806          UGX   \n",
       "3          48738     1797       3351             974        3733          UGX   \n",
       "4          41364    48941       3219            2366        3733          UGX   \n",
       "\n",
       "   CountryCode    ProviderId  ProductId     ProductCategory  ...   Amount  \\\n",
       "0          256  ProviderId_6          1             airtime  ...   1000.0   \n",
       "1          256  ProviderId_4         19  financial_services  ...    -20.0   \n",
       "2          256  ProviderId_6          0             airtime  ...    500.0   \n",
       "3          256  ProviderId_1         11        utility_bill  ...  20000.0   \n",
       "4          256  ProviderId_4         19  financial_services  ...   -644.0   \n",
       "\n",
       "   Value      TransactionStartTime PricingStrategy  FraudResult  \\\n",
       "0   1000 2018-11-15 02:18:49+00:00               2            0   \n",
       "1     20 2018-11-15 02:19:08+00:00               2            0   \n",
       "2    500 2018-11-15 02:44:21+00:00               2            0   \n",
       "3  21800 2018-11-15 03:32:55+00:00               2            0   \n",
       "4    644 2018-11-15 03:34:21+00:00               2            0   \n",
       "\n",
       "   transaction_hour  transaction_day  transaction_month  transaction_year  \\\n",
       "0                 2               15                 11              2018   \n",
       "1                 2               15                 11              2018   \n",
       "2                 2               15                 11              2018   \n",
       "3                 3               15                 11              2018   \n",
       "4                 3               15                 11              2018   \n",
       "\n",
       "   ChannelId_encoded  \n",
       "0                  2  \n",
       "1                  1  \n",
       "2                  2  \n",
       "3                  2  \n",
       "4                  1  \n",
       "\n",
       "[5 rows x 21 columns]"
      ]
     },
     "execution_count": 13,
     "metadata": {},
     "output_type": "execute_result"
    }
   ],
   "source": [
    "from sklearn.preprocessing import LabelEncoder\n",
    "\n",
    "# Label Encoding\n",
    "# le = LabelEncoder()\n",
    "# df['ChannelId_encoded'] = le.fit_transform(df['ChannelId'])\n",
    "# print(df[['ChannelId', 'ChannelId_encoded']].head())\n",
    "# 'TransactionId', 'BatchId', 'AccountId', 'SubscriptionId', 'CustomerId', 'ProductId'\n",
    "\n",
    "label_encoder = LabelEncoder()\n",
    "label_encoded_columns = ['TransactionId', 'BatchId', 'AccountId', 'SubscriptionId', 'CustomerId', 'ProductId']\n",
    "for col in label_encoded_columns:\n",
    "    df[col] = label_encoder.fit_transform(df[col])\n",
    "\n",
    "print(df[['ChannelId', 'ChannelId_encoded']].head())\n",
    "df.head()"
   ]
  },
  {
   "cell_type": "markdown",
   "metadata": {},
   "source": [
    "4. Handle Missing Values"
   ]
  },
  {
   "cell_type": "code",
   "execution_count": 15,
   "metadata": {},
   "outputs": [],
   "source": [
    "# Impute missing values with the mean for numerical columns only\n",
    "df.fillna(df.select_dtypes(include=[np.number]).mean(), inplace=True)\n",
    "\n"
   ]
  },
  {
   "cell_type": "code",
   "execution_count": 16,
   "metadata": {},
   "outputs": [],
   "source": [
    "# Remove rows with missing values\n",
    "df.dropna(inplace=True)"
   ]
  }
 ],
 "metadata": {
  "kernelspec": {
   "display_name": ".venv_bati",
   "language": "python",
   "name": "python3"
  },
  "language_info": {
   "codemirror_mode": {
    "name": "ipython",
    "version": 3
   },
   "file_extension": ".py",
   "mimetype": "text/x-python",
   "name": "python",
   "nbconvert_exporter": "python",
   "pygments_lexer": "ipython3",
   "version": "3.10.6"
  }
 },
 "nbformat": 4,
 "nbformat_minor": 2
}
