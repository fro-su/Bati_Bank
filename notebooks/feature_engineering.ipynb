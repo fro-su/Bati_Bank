{
 "cells": [
  {
   "cell_type": "code",
   "execution_count": 1,
   "metadata": {},
   "outputs": [],
   "source": [
    "import pandas as pd\n",
    "import seaborn as sns\n",
    "import matplotlib.pyplot as plt\n",
    "import numpy as np"
   ]
  },
  {
   "cell_type": "markdown",
   "metadata": {},
   "source": [
    " Load the dataset"
   ]
  },
  {
   "cell_type": "code",
   "execution_count": 2,
   "metadata": {},
   "outputs": [],
   "source": [
    "df = pd.read_csv('../data/data.csv')"
   ]
  },
  {
   "cell_type": "markdown",
   "metadata": {},
   "source": [
    "1. Create Aggregate Features\n"
   ]
  },
  {
   "cell_type": "markdown",
   "metadata": {},
   "source": [
    "We will group transactions by customer and compute aggregate statistics"
   ]
  },
  {
   "cell_type": "code",
   "execution_count": 3,
   "metadata": {},
   "outputs": [
    {
     "name": "stdout",
     "output_type": "stream",
     "text": [
      "        CustomerId  total_transaction_amount  avg_transaction_amount  \\\n",
      "0     CustomerId_1                  -10000.0           -10000.000000   \n",
      "1    CustomerId_10                  -10000.0           -10000.000000   \n",
      "2  CustomerId_1001                   20000.0             4000.000000   \n",
      "3  CustomerId_1002                    4225.0              384.090909   \n",
      "4  CustomerId_1003                   20000.0             3333.333333   \n",
      "\n",
      "   transaction_count  std_transaction_amount  \n",
      "0                  1                     NaN  \n",
      "1                  1                     NaN  \n",
      "2                  5             6558.963333  \n",
      "3                 11              560.498966  \n",
      "4                  6             6030.478146  \n"
     ]
    }
   ],
   "source": [
    "# Aggregate features\n",
    "aggregate_df = df.groupby('CustomerId').agg(\n",
    "    total_transaction_amount=('Amount', 'sum'),\n",
    "    avg_transaction_amount=('Amount', 'mean'),\n",
    "    transaction_count=('TransactionId', 'count'),\n",
    "    std_transaction_amount=('Amount', 'std')\n",
    ").reset_index()\n",
    "\n",
    "print(aggregate_df.head())"
   ]
  },
  {
   "cell_type": "markdown",
   "metadata": {},
   "source": [
    "2. Extract Time-based Features"
   ]
  },
  {
   "cell_type": "code",
   "execution_count": 4,
   "metadata": {},
   "outputs": [
    {
     "name": "stdout",
     "output_type": "stream",
     "text": [
      "   transaction_hour  transaction_day  transaction_month  transaction_year\n",
      "0                 2               15                 11              2018\n",
      "1                 2               15                 11              2018\n",
      "2                 2               15                 11              2018\n",
      "3                 3               15                 11              2018\n",
      "4                 3               15                 11              2018\n"
     ]
    }
   ],
   "source": [
    "# Convert 'TransactionStartTime' to datetime if it's not in that format\n",
    "df['TransactionStartTime'] = pd.to_datetime(df['TransactionStartTime'])\n",
    "\n",
    "# Extract hour, day, month, and year\n",
    "df['transaction_hour'] = df['TransactionStartTime'].dt.hour\n",
    "df['transaction_day'] = df['TransactionStartTime'].dt.day\n",
    "df['transaction_month'] = df['TransactionStartTime'].dt.month\n",
    "df['transaction_year'] = df['TransactionStartTime'].dt.year\n",
    "\n",
    "print(df[['transaction_hour', 'transaction_day', 'transaction_month', 'transaction_year']].head())\n"
   ]
  }
 ],
 "metadata": {
  "kernelspec": {
   "display_name": ".venv_bati",
   "language": "python",
   "name": "python3"
  },
  "language_info": {
   "codemirror_mode": {
    "name": "ipython",
    "version": 3
   },
   "file_extension": ".py",
   "mimetype": "text/x-python",
   "name": "python",
   "nbconvert_exporter": "python",
   "pygments_lexer": "ipython3",
   "version": "3.10.6"
  }
 },
 "nbformat": 4,
 "nbformat_minor": 2
}
